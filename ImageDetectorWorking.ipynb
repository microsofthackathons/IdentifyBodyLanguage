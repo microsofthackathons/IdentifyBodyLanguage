{
 "cells": [
  {
   "cell_type": "code",
   "execution_count": 8,
   "id": "8f8dc473",
   "metadata": {},
   "outputs": [
    {
     "name": "stdout",
     "output_type": "stream",
     "text": [
      "===== Tag an image - remote =====\n",
      "Tags in the remote image: \n",
      "'person' with confidence 99.28%\n",
      "'human face' with confidence 99.11%\n",
      "'clothing' with confidence 97.68%\n",
      "'smile' with confidence 96.11%\n",
      "'coat' with confidence 93.17%\n",
      "'outdoor' with confidence 92.30%\n",
      "'eyewear' with confidence 90.44%\n",
      "'street fashion' with confidence 90.15%\n",
      "'woman' with confidence 89.27%\n",
      "'building' with confidence 88.80%\n",
      "'wearing' with confidence 74.73%\n",
      "'glasses' with confidence 63.91%\n",
      "'girl' with confidence 58.52%\n",
      "'street' with confidence 53.30%\n",
      "\n",
      "End of Computer Vision quickstart.\n"
     ]
    }
   ],
   "source": [
    "from azure.cognitiveservices.vision.computervision import ComputerVisionClient\n",
    "from azure.cognitiveservices.vision.computervision.models import OperationStatusCodes\n",
    "from azure.cognitiveservices.vision.computervision.models import VisualFeatureTypes\n",
    "from msrest.authentication import CognitiveServicesCredentials\n",
    "\n",
    "from array import array\n",
    "import os\n",
    "from PIL import Image\n",
    "import sys\n",
    "import time\n",
    "\n",
    "'''\n",
    "Authenticate\n",
    "Authenticates your credentials and creates a client.\n",
    "'''\n",
    "subscription_key = \"4db7249d4a2f49059eb17a7d530bc5dd\"\n",
    "endpoint = \"https://aiblcomputervision.cognitiveservices.azure.com/\"\n",
    "\n",
    "computervision_client = ComputerVisionClient(endpoint, CognitiveServicesCredentials(subscription_key))\n",
    "'''\n",
    "END - Authenticate\n",
    "'''\n",
    "\n",
    "'''\n",
    "Quickstart variables\n",
    "These variables are shared by several examples\n",
    "'''\n",
    "# Images used for the examples: Describe an image, Categorize an image, Tag an image, \n",
    "# Detect faces, Detect adult or racy content, Detect the color scheme, \n",
    "# Detect domain-specific content, Detect image types, Detect objects\n",
    "images_folder = os.path.join (os.path.dirname(os.path.abspath(\"C:\\\\Users\\\\skarasala\\\\Desktop\\\\Vineela\\\\Hackathon\")), \"images\")\n",
    "#remote_image_url = \"https://raw.githubusercontent.com/Azure-Samples/cognitive-services-sample-data-files/master/ComputerVision/Images/landmark.jpg\"\n",
    "remote_image_url = \"https://raw.githubusercontent.com/Microsoft/Cognitive-Face-Windows/master/Data/detection1.jpg\"\n",
    "'''\n",
    "END - Quickstart variables\n",
    "'''\n",
    "\n",
    "\n",
    "'''\n",
    "Tag an Image - remote\n",
    "This example returns a tag (key word) for each thing in the image.\n",
    "'''\n",
    "print(\"===== Tag an image - remote =====\")\n",
    "# Call API with remote image\n",
    "tags_result_remote = computervision_client.tag_image(remote_image_url )\n",
    "\n",
    "# Print results with confidence score\n",
    "print(\"Tags in the remote image: \")\n",
    "if (len(tags_result_remote.tags) == 0):\n",
    "    print(\"No tags detected.\")\n",
    "else:\n",
    "    for tag in tags_result_remote.tags:\n",
    "        print(\"'{}' with confidence {:.2f}%\".format(tag.name, tag.confidence * 100))\n",
    "print()\n",
    "'''\n",
    "END - Tag an Image - remote\n",
    "'''\n",
    "print(\"End of Computer Vision quickstart.\")"
   ]
  },
  {
   "cell_type": "code",
   "execution_count": null,
   "id": "136dd4fe",
   "metadata": {},
   "outputs": [],
   "source": []
  }
 ],
 "metadata": {
  "kernelspec": {
   "display_name": "Python 3 (ipykernel)",
   "language": "python",
   "name": "python3"
  },
  "language_info": {
   "codemirror_mode": {
    "name": "ipython",
    "version": 3
   },
   "file_extension": ".py",
   "mimetype": "text/x-python",
   "name": "python",
   "nbconvert_exporter": "python",
   "pygments_lexer": "ipython3",
   "version": "3.9.12"
  }
 },
 "nbformat": 4,
 "nbformat_minor": 5
}
